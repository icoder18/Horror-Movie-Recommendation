{
 "cells": [
  {
   "cell_type": "code",
   "execution_count": 94,
   "metadata": {},
   "outputs": [],
   "source": [
    "import pandas as pd\n",
    "import numpy as np\n",
    "import matplotlib.pyplot as plt\n",
    "from bs4 import BeautifulSoup as soup\n",
    "import requests"
   ]
  },
  {
   "cell_type": "code",
   "execution_count": 114,
   "metadata": {},
   "outputs": [],
   "source": [
    "movie_title = []\n",
    "movie_rating = []\n",
    "movie_genres = []\n",
    "movie_url = []"
   ]
  },
  {
   "cell_type": "code",
   "execution_count": 115,
   "metadata": {},
   "outputs": [],
   "source": [
    "def scrapeData(url):\n",
    "    r = requests.get(url).content\n",
    "    data = soup(r,'html.parser')\n",
    "    movie_divs = data.findAll('div',{'class':'lister-item-content'})\n",
    "\n",
    "    for div in movie_divs:\n",
    "        #title\n",
    "        t=div.h3.text.split()\n",
    "        s=\"\"\n",
    "        index=1\n",
    "        for i in t:\n",
    "            if index==1:\n",
    "                index+=1\n",
    "                continue\n",
    "            s+=i+\" \"\n",
    "            index+=1\n",
    "        movie_title.append(s)\n",
    "    \n",
    "        #genre\n",
    "        g=div.findAll('span',{'class':'genre'})[0].text[1:]\n",
    "        movie_genres.append(g)\n",
    "    \n",
    "        #rating\n",
    "        try:\n",
    "            rt = div.strong.text\n",
    "        except:\n",
    "            rt = 'None'\n",
    "        movie_rating.append(rt)\n",
    "        #url\n",
    "        u = div.h3.a['href']\n",
    "        u = 'www.imdb.com'+u\n",
    "        movie_url.append(u)"
   ]
  },
  {
   "cell_type": "code",
   "execution_count": 116,
   "metadata": {},
   "outputs": [],
   "source": [
    "#scrapeData('https://www.imdb.com/search/title/?title_type=feature&genres=horror&start=51&explore=genres&ref_=adv_nxt')"
   ]
  },
  {
   "cell_type": "code",
   "execution_count": 117,
   "metadata": {},
   "outputs": [],
   "source": [
    "def getNextURL(url):\n",
    "    r = requests.get(url).content\n",
    "    data = soup(r,'html.parser')\n",
    "    div = data.find('a',{'class':'next-page'})['href']\n",
    "    nextUrl = 'https://www.imdb.com/'+div\n",
    "    return nextUrl    "
   ]
  },
  {
   "cell_type": "code",
   "execution_count": 118,
   "metadata": {},
   "outputs": [],
   "source": [
    "#getNextURL('https://www.imdb.com/search/title/?genres=horror&title_type=feature&explore=genres')"
   ]
  },
  {
   "cell_type": "code",
   "execution_count": 119,
   "metadata": {},
   "outputs": [],
   "source": [
    "start_url = \"https://www.imdb.com/search/title/?genres=horror&title_type=feature&explore=genres\"\n",
    "pageNo = 1\n",
    "\n",
    "while pageNo<=50:\n",
    "    scrapeData(start_url)\n",
    "    start_url = getNextURL(start_url)\n",
    "    pageNo+=1                      "
   ]
  },
  {
   "cell_type": "code",
   "execution_count": 120,
   "metadata": {},
   "outputs": [],
   "source": [
    "#print(movie_title)"
   ]
  },
  {
   "cell_type": "markdown",
   "metadata": {},
   "source": [
    "### Data to csv"
   ]
  },
  {
   "cell_type": "code",
   "execution_count": 121,
   "metadata": {},
   "outputs": [
    {
     "name": "stdout",
     "output_type": "stream",
     "text": [
      "2500\n",
      "2500\n",
      "2500\n",
      "2500\n"
     ]
    }
   ],
   "source": [
    "print(len(movie_title))\n",
    "print(len(movie_url))\n",
    "print(len(movie_rating))\n",
    "print(len(movie_genres))"
   ]
  },
  {
   "cell_type": "code",
   "execution_count": null,
   "metadata": {},
   "outputs": [],
   "source": []
  },
  {
   "cell_type": "code",
   "execution_count": 122,
   "metadata": {},
   "outputs": [],
   "source": [
    "df = pd.DataFrame({'Title':movie_title,'Rating':movie_rating,'Genres':movie_genres,'Url':movie_url})"
   ]
  },
  {
   "cell_type": "code",
   "execution_count": 123,
   "metadata": {},
   "outputs": [],
   "source": [
    "df.to_csv('Horror Movies.csv',index=False)"
   ]
  },
  {
   "cell_type": "code",
   "execution_count": null,
   "metadata": {},
   "outputs": [],
   "source": []
  }
 ],
 "metadata": {
  "kernelspec": {
   "display_name": "Python 3",
   "language": "python",
   "name": "python3"
  },
  "language_info": {
   "codemirror_mode": {
    "name": "ipython",
    "version": 3
   },
   "file_extension": ".py",
   "mimetype": "text/x-python",
   "name": "python",
   "nbconvert_exporter": "python",
   "pygments_lexer": "ipython3",
   "version": "3.6.7"
  }
 },
 "nbformat": 4,
 "nbformat_minor": 4
}
