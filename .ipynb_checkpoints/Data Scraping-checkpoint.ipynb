{
 "cells": [
  {
   "cell_type": "code",
   "execution_count": 1,
   "metadata": {},
   "outputs": [],
   "source": [
    "import pandas as pd\n",
    "import numpy as np\n",
    "import matplotlib.pyplot as plt\n",
    "from bs4 import BeautifulSoup as soup\n",
    "import requests"
   ]
  },
  {
   "cell_type": "code",
   "execution_count": 2,
   "metadata": {},
   "outputs": [],
   "source": [
    "movie_title = []\n",
    "movie_rating = []\n",
    "movie_genres = []\n",
    "movie_url = []\n",
    "movie_tags = []"
   ]
  },
  {
   "cell_type": "markdown",
   "metadata": {},
   "source": [
    "```\n",
    "rsub = requests.get('https://www.imdb.com/title/tt0087800/?ref_=adv_li_tt').content\n",
    "datasub = soup(rsub,'html.parser')\n",
    "tags_data = datasub.findAll('div',{'class':['see-more', 'inline', 'canwrap']})\n",
    "\n",
    "reqd_div='None'\n",
    "tags_list=[]\n",
    "tags=[]\n",
    "\n",
    "for t in tags_data:\n",
    "    try:\n",
    "        text = t.h4.text\n",
    "        if text == 'Plot Keywords:':\n",
    "            reqd_div = t\n",
    "            tags_list = reqd_div.findAll('span',{'class':'itemprop'})\n",
    "            for i in range(len(tags_list)):\n",
    "                tags.append(tags_list[i].text)\n",
    "    except:\n",
    "        continue\n",
    "\n",
    "print(tags)\n",
    "```"
   ]
  },
  {
   "cell_type": "code",
   "execution_count": 3,
   "metadata": {},
   "outputs": [],
   "source": [
    "def scrapeData(url):\n",
    "    r = requests.get(url).content\n",
    "    data = soup(r,'html.parser')\n",
    "    movie_divs = data.findAll('div',{'class':'lister-item-content'})\n",
    "\n",
    "    for div in movie_divs:\n",
    "        #title\n",
    "        t=div.h3.text.split()\n",
    "        s=\"\"\n",
    "        index=1\n",
    "        for i in t:\n",
    "            if index==1:\n",
    "                index+=1\n",
    "                continue\n",
    "            s+=i+\" \"\n",
    "            index+=1\n",
    "        movie_title.append(s)\n",
    "    \n",
    "        #genre\n",
    "        g=div.findAll('span',{'class':'genre'})[0].text[1:]\n",
    "        movie_genres.append(g)\n",
    "    \n",
    "        #rating\n",
    "        try:\n",
    "            rt = div.strong.text\n",
    "        except:\n",
    "            rt = 'None'\n",
    "        movie_rating.append(rt)\n",
    "        #url\n",
    "        u = div.h3.a['href']\n",
    "        u = 'https://www.imdb.com/'+u\n",
    "        movie_url.append(u)\n",
    "        \n",
    "        #tags\n",
    "        rsub = requests.get(u).content\n",
    "        datasub = soup(rsub,'html.parser')\n",
    "        tags_data = datasub.findAll('div',{'class':['see-more', 'inline', 'canwrap']})\n",
    "\n",
    "        reqd_div='None'\n",
    "        tags_list=[]\n",
    "        tags=[]\n",
    "\n",
    "        for t in tags_data:\n",
    "            try:\n",
    "                text = t.h4.text\n",
    "                if text == 'Plot Keywords:':\n",
    "                    reqd_div = t\n",
    "                    tags_list = reqd_div.findAll('span',{'class':'itemprop'})\n",
    "                    for i in range(len(tags_list)):\n",
    "                        tags.append(tags_list[i].text)\n",
    "            except:\n",
    "                continue\n",
    "        \n",
    "        movie_tags.append(tags)"
   ]
  },
  {
   "cell_type": "code",
   "execution_count": 4,
   "metadata": {},
   "outputs": [],
   "source": [
    "#scrapeData('https://www.imdb.com/search/title/?title_type=feature&genres=horror&start=51&explore=genres&ref_=adv_nxt')"
   ]
  },
  {
   "cell_type": "code",
   "execution_count": 5,
   "metadata": {},
   "outputs": [],
   "source": [
    "def getNextURL(url):\n",
    "    r = requests.get(url).content\n",
    "    data = soup(r,'html.parser')\n",
    "    div = data.find('a',{'class':'next-page'})['href']\n",
    "    nextUrl = 'https://www.imdb.com/'+div\n",
    "    return nextUrl    "
   ]
  },
  {
   "cell_type": "code",
   "execution_count": 6,
   "metadata": {},
   "outputs": [],
   "source": [
    "#getNextURL('https://www.imdb.com/search/title/?genres=horror&title_type=feature&explore=genres')"
   ]
  },
  {
   "cell_type": "code",
   "execution_count": 7,
   "metadata": {
    "scrolled": false
   },
   "outputs": [
    {
     "name": "stdout",
     "output_type": "stream",
     "text": [
      "Done scraping Page no:1\n",
      "Done scraping Page no:2\n",
      "Done scraping Page no:3\n",
      "Done scraping Page no:4\n",
      "Done scraping Page no:5\n",
      "Done scraping Page no:6\n",
      "Done scraping Page no:7\n",
      "Done scraping Page no:8\n",
      "Done scraping Page no:9\n",
      "Done scraping Page no:10\n",
      "Done scraping Page no:11\n",
      "Done scraping Page no:12\n",
      "Done scraping Page no:13\n",
      "Done scraping Page no:14\n",
      "Done scraping Page no:15\n",
      "Done scraping Page no:16\n",
      "Done scraping Page no:17\n",
      "Done scraping Page no:18\n",
      "Done scraping Page no:19\n",
      "Done scraping Page no:20\n",
      "Done scraping Page no:21\n",
      "Done scraping Page no:22\n",
      "Done scraping Page no:23\n",
      "Done scraping Page no:24\n",
      "Done scraping Page no:25\n",
      "Done scraping Page no:26\n",
      "Done scraping Page no:27\n",
      "Done scraping Page no:28\n",
      "Done scraping Page no:29\n",
      "Done scraping Page no:30\n",
      "Done scraping Page no:31\n",
      "Done scraping Page no:32\n",
      "Done scraping Page no:33\n",
      "Done scraping Page no:34\n",
      "Done scraping Page no:35\n",
      "Done scraping Page no:36\n",
      "Done scraping Page no:37\n",
      "Done scraping Page no:38\n",
      "Done scraping Page no:39\n",
      "Done scraping Page no:40\n",
      "Done scraping Page no:41\n",
      "Done scraping Page no:42\n",
      "Done scraping Page no:43\n",
      "Done scraping Page no:44\n",
      "Done scraping Page no:45\n",
      "Done scraping Page no:46\n",
      "Done scraping Page no:47\n",
      "Done scraping Page no:48\n",
      "Done scraping Page no:49\n",
      "Done scraping Page no:50\n"
     ]
    }
   ],
   "source": [
    "start_url = \"https://www.imdb.com/search/title/?genres=horror&title_type=feature&explore=genres\"\n",
    "pageNo = 1\n",
    "\n",
    "while pageNo<=50:\n",
    "    scrapeData(start_url)\n",
    "    start_url = getNextURL(start_url)\n",
    "    print(\"Done scraping Page no:\" +str(pageNo))\n",
    "    pageNo+=1            "
   ]
  },
  {
   "cell_type": "code",
   "execution_count": 10,
   "metadata": {
    "scrolled": false
   },
   "outputs": [],
   "source": [
    "#print(movie_title)\n",
    "#print(movie_tags)"
   ]
  },
  {
   "cell_type": "markdown",
   "metadata": {},
   "source": [
    "### Data to csv"
   ]
  },
  {
   "cell_type": "code",
   "execution_count": 11,
   "metadata": {},
   "outputs": [
    {
     "name": "stdout",
     "output_type": "stream",
     "text": [
      "2500\n",
      "2500\n",
      "2500\n",
      "2500\n",
      "2500\n"
     ]
    }
   ],
   "source": [
    "print(len(movie_title))\n",
    "print(len(movie_url))\n",
    "print(len(movie_rating))\n",
    "print(len(movie_genres))\n",
    "print(len(movie_tags))"
   ]
  },
  {
   "cell_type": "code",
   "execution_count": null,
   "metadata": {},
   "outputs": [],
   "source": []
  },
  {
   "cell_type": "code",
   "execution_count": 12,
   "metadata": {},
   "outputs": [],
   "source": [
    "df = pd.DataFrame({'Title':movie_title,'Rating':movie_rating,'Genres':movie_genres,'Tags':movie_tags,'Url':movie_url})"
   ]
  },
  {
   "cell_type": "code",
   "execution_count": 13,
   "metadata": {},
   "outputs": [],
   "source": [
    "#df.to_csv('Horror Movies.csv',index=False)\n",
    "df.to_csv('Horror Movies with Tags.csv',index=False)"
   ]
  },
  {
   "cell_type": "code",
   "execution_count": null,
   "metadata": {},
   "outputs": [],
   "source": []
  }
 ],
 "metadata": {
  "kernelspec": {
   "display_name": "Python 3",
   "language": "python",
   "name": "python3"
  },
  "language_info": {
   "codemirror_mode": {
    "name": "ipython",
    "version": 3
   },
   "file_extension": ".py",
   "mimetype": "text/x-python",
   "name": "python",
   "nbconvert_exporter": "python",
   "pygments_lexer": "ipython3",
   "version": "3.6.7"
  }
 },
 "nbformat": 4,
 "nbformat_minor": 4
}
