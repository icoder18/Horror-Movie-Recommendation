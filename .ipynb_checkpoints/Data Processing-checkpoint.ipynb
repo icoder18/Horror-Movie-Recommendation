{
 "cells": [
  {
   "cell_type": "code",
   "execution_count": 66,
   "metadata": {},
   "outputs": [],
   "source": [
    "import numpy as np\n",
    "import pandas as pd\n",
    "import json"
   ]
  },
  {
   "cell_type": "code",
   "execution_count": 35,
   "metadata": {},
   "outputs": [
    {
     "data": {
      "text/html": [
       "<div>\n",
       "<style scoped>\n",
       "    .dataframe tbody tr th:only-of-type {\n",
       "        vertical-align: middle;\n",
       "    }\n",
       "\n",
       "    .dataframe tbody tr th {\n",
       "        vertical-align: top;\n",
       "    }\n",
       "\n",
       "    .dataframe thead th {\n",
       "        text-align: right;\n",
       "    }\n",
       "</style>\n",
       "<table border=\"1\" class=\"dataframe\">\n",
       "  <thead>\n",
       "    <tr style=\"text-align: right;\">\n",
       "      <th></th>\n",
       "      <th>Title</th>\n",
       "      <th>Rating</th>\n",
       "      <th>Genres</th>\n",
       "      <th>Tags</th>\n",
       "      <th>Url</th>\n",
       "      <th>Popularity</th>\n",
       "    </tr>\n",
       "  </thead>\n",
       "  <tbody>\n",
       "    <tr>\n",
       "      <th>0</th>\n",
       "      <td>Between Earth and Sky (2018)</td>\n",
       "      <td>5.7</td>\n",
       "      <td>Crime, Drama, Horror</td>\n",
       "      <td>['girlfriend', 'dysfunctional family', 'refere...</td>\n",
       "      <td>https://www.imdb.com//title/tt7945440/</td>\n",
       "      <td>125</td>\n",
       "    </tr>\n",
       "    <tr>\n",
       "      <th>1</th>\n",
       "      <td>The Witches (2020)</td>\n",
       "      <td>None</td>\n",
       "      <td>Adventure, Comedy, Family</td>\n",
       "      <td>['witch', 'european literature on screen', 're...</td>\n",
       "      <td>https://www.imdb.com//title/tt0805647/</td>\n",
       "      <td>125</td>\n",
       "    </tr>\n",
       "    <tr>\n",
       "      <th>2</th>\n",
       "      <td>The Wolf of Snow Hollow (2020)</td>\n",
       "      <td>6.2</td>\n",
       "      <td>Comedy, Horror, Thriller</td>\n",
       "      <td>['mountain']</td>\n",
       "      <td>https://www.imdb.com//title/tt11140488/</td>\n",
       "      <td>125</td>\n",
       "    </tr>\n",
       "    <tr>\n",
       "      <th>3</th>\n",
       "      <td>The Invisible Man (I) (2020)</td>\n",
       "      <td>7.1</td>\n",
       "      <td>Horror, Mystery, Sci-Fi</td>\n",
       "      <td>['domestic abuse', 'psychological abuse', 'thr...</td>\n",
       "      <td>https://www.imdb.com//title/tt1051906/</td>\n",
       "      <td>125</td>\n",
       "    </tr>\n",
       "    <tr>\n",
       "      <th>4</th>\n",
       "      <td>The Witches (1990)</td>\n",
       "      <td>6.8</td>\n",
       "      <td>Adventure, Comedy, Family</td>\n",
       "      <td>['witch', 'little boy', 'hotel', 'mouse', 'met...</td>\n",
       "      <td>https://www.imdb.com//title/tt0100944/</td>\n",
       "      <td>125</td>\n",
       "    </tr>\n",
       "    <tr>\n",
       "      <th>5</th>\n",
       "      <td>Nocturne (II) (2020)</td>\n",
       "      <td>5.6</td>\n",
       "      <td>Horror, Mystery, Thriller</td>\n",
       "      <td>['pianist', 'period', 'eye close up', 'suicide...</td>\n",
       "      <td>https://www.imdb.com//title/tt11044858/</td>\n",
       "      <td>125</td>\n",
       "    </tr>\n",
       "    <tr>\n",
       "      <th>6</th>\n",
       "      <td>Black Box (II) (2020)</td>\n",
       "      <td>6.1</td>\n",
       "      <td>Horror, Mystery, Sci-Fi</td>\n",
       "      <td>['father holding his baby', 'strangled', 'fath...</td>\n",
       "      <td>https://www.imdb.com//title/tt12298506/</td>\n",
       "      <td>125</td>\n",
       "    </tr>\n",
       "    <tr>\n",
       "      <th>7</th>\n",
       "      <td>Doctor Sleep (2019)</td>\n",
       "      <td>7.3</td>\n",
       "      <td>Drama, Fantasy, Horror</td>\n",
       "      <td>['based on the works of stephen king', 'hat', ...</td>\n",
       "      <td>https://www.imdb.com//title/tt5606664/</td>\n",
       "      <td>125</td>\n",
       "    </tr>\n",
       "    <tr>\n",
       "      <th>8</th>\n",
       "      <td>Halloween (1978)</td>\n",
       "      <td>7.8</td>\n",
       "      <td>Horror, Thriller</td>\n",
       "      <td>['halloween', 'year 1978', 'babysitting', 'sta...</td>\n",
       "      <td>https://www.imdb.com//title/tt0077651/</td>\n",
       "      <td>125</td>\n",
       "    </tr>\n",
       "    <tr>\n",
       "      <th>9</th>\n",
       "      <td>Scream (1996)</td>\n",
       "      <td>7.2</td>\n",
       "      <td>Horror, Mystery</td>\n",
       "      <td>['slasher', 'serial killer', 'masked killer', ...</td>\n",
       "      <td>https://www.imdb.com//title/tt0117571/</td>\n",
       "      <td>125</td>\n",
       "    </tr>\n",
       "  </tbody>\n",
       "</table>\n",
       "</div>"
      ],
      "text/plain": [
       "                             Title Rating  \\\n",
       "0    Between Earth and Sky (2018)     5.7   \n",
       "1              The Witches (2020)    None   \n",
       "2  The Wolf of Snow Hollow (2020)     6.2   \n",
       "3    The Invisible Man (I) (2020)     7.1   \n",
       "4              The Witches (1990)     6.8   \n",
       "5            Nocturne (II) (2020)     5.6   \n",
       "6           Black Box (II) (2020)     6.1   \n",
       "7             Doctor Sleep (2019)     7.3   \n",
       "8                Halloween (1978)     7.8   \n",
       "9                   Scream (1996)     7.2   \n",
       "\n",
       "                                  Genres  \\\n",
       "0       Crime, Drama, Horror               \n",
       "1  Adventure, Comedy, Family               \n",
       "2   Comedy, Horror, Thriller               \n",
       "3    Horror, Mystery, Sci-Fi               \n",
       "4  Adventure, Comedy, Family               \n",
       "5  Horror, Mystery, Thriller               \n",
       "6    Horror, Mystery, Sci-Fi               \n",
       "7     Drama, Fantasy, Horror               \n",
       "8           Horror, Thriller               \n",
       "9            Horror, Mystery               \n",
       "\n",
       "                                                Tags  \\\n",
       "0  ['girlfriend', 'dysfunctional family', 'refere...   \n",
       "1  ['witch', 'european literature on screen', 're...   \n",
       "2                                       ['mountain']   \n",
       "3  ['domestic abuse', 'psychological abuse', 'thr...   \n",
       "4  ['witch', 'little boy', 'hotel', 'mouse', 'met...   \n",
       "5  ['pianist', 'period', 'eye close up', 'suicide...   \n",
       "6  ['father holding his baby', 'strangled', 'fath...   \n",
       "7  ['based on the works of stephen king', 'hat', ...   \n",
       "8  ['halloween', 'year 1978', 'babysitting', 'sta...   \n",
       "9  ['slasher', 'serial killer', 'masked killer', ...   \n",
       "\n",
       "                                       Url  Popularity  \n",
       "0   https://www.imdb.com//title/tt7945440/         125  \n",
       "1   https://www.imdb.com//title/tt0805647/         125  \n",
       "2  https://www.imdb.com//title/tt11140488/         125  \n",
       "3   https://www.imdb.com//title/tt1051906/         125  \n",
       "4   https://www.imdb.com//title/tt0100944/         125  \n",
       "5  https://www.imdb.com//title/tt11044858/         125  \n",
       "6  https://www.imdb.com//title/tt12298506/         125  \n",
       "7   https://www.imdb.com//title/tt5606664/         125  \n",
       "8   https://www.imdb.com//title/tt0077651/         125  \n",
       "9   https://www.imdb.com//title/tt0117571/         125  "
      ]
     },
     "execution_count": 35,
     "metadata": {},
     "output_type": "execute_result"
    }
   ],
   "source": [
    "data = pd.read_csv('Horror Movies List.csv')\n",
    "data.head(n=10)"
   ]
  },
  {
   "cell_type": "code",
   "execution_count": 36,
   "metadata": {},
   "outputs": [
    {
     "data": {
      "text/plain": [
       "2500"
      ]
     },
     "execution_count": 36,
     "metadata": {},
     "output_type": "execute_result"
    }
   ],
   "source": [
    "len(data)"
   ]
  },
  {
   "cell_type": "code",
   "execution_count": 37,
   "metadata": {},
   "outputs": [
    {
     "name": "stdout",
     "output_type": "stream",
     "text": [
      "Crime\n",
      "Drama\n",
      "Horror\n"
     ]
    }
   ],
   "source": [
    "l =list(data['Genres'])\n",
    "for li in l:\n",
    "    li=li.split()\n",
    "    for i in li:\n",
    "        if i[-1]==',':\n",
    "            i=i[:-1]\n",
    "        print(i)\n",
    "    break"
   ]
  },
  {
   "cell_type": "code",
   "execution_count": 38,
   "metadata": {},
   "outputs": [],
   "source": [
    "def mapGenres(genres,data):\n",
    "    movie_genres = list(data['Genres'])\n",
    "    for mg in movie_genres:\n",
    "        mg = mg.split()\n",
    "        for i in mg:\n",
    "            if i[-1]==',':\n",
    "                i = i[:-1]\n",
    "        \n",
    "        if i in genres.keys():\n",
    "            genres[i]+=1\n",
    "        else:\n",
    "            genres[i]=1   "
   ]
  },
  {
   "cell_type": "code",
   "execution_count": 39,
   "metadata": {},
   "outputs": [],
   "source": [
    "genres = {}\n",
    "\n",
    "mapGenres(genres,data)"
   ]
  },
  {
   "cell_type": "code",
   "execution_count": 40,
   "metadata": {},
   "outputs": [
    {
     "data": {
      "text/plain": [
       "{'Horror': 958,\n",
       " 'Family': 10,\n",
       " 'Thriller': 753,\n",
       " 'Sci-Fi': 281,\n",
       " 'Mystery': 283,\n",
       " 'Fantasy': 72,\n",
       " 'Comedy': 25,\n",
       " 'Drama': 41,\n",
       " 'War': 5,\n",
       " 'Musical': 8,\n",
       " 'Music': 6,\n",
       " 'Western': 6,\n",
       " 'Romance': 29,\n",
       " 'Crime': 14,\n",
       " 'History': 2,\n",
       " 'Adventure': 4,\n",
       " 'Biography': 1,\n",
       " 'Action': 1,\n",
       " 'Sport': 1}"
      ]
     },
     "execution_count": 40,
     "metadata": {},
     "output_type": "execute_result"
    }
   ],
   "source": [
    "genres"
   ]
  },
  {
   "cell_type": "code",
   "execution_count": 41,
   "metadata": {},
   "outputs": [],
   "source": [
    "from ast import literal_eval"
   ]
  },
  {
   "cell_type": "code",
   "execution_count": 42,
   "metadata": {},
   "outputs": [],
   "source": [
    "def classifyTags(data):\n",
    "    tagsDict={}\n",
    "    movie_tags = list(data['Tags'])\n",
    "    for single_movie_tags in movie_tags:\n",
    "        tags=literal_eval(single_movie_tags)\n",
    "        for t in tags:\n",
    "            if t in tagsDict:\n",
    "                tagsDict[t]+=1\n",
    "            else:\n",
    "                tagsDict[t]=1\n",
    "    return tagsDict"
   ]
  },
  {
   "cell_type": "code",
   "execution_count": 43,
   "metadata": {},
   "outputs": [],
   "source": [
    "tagsDict = classifyTags(data)"
   ]
  },
  {
   "cell_type": "code",
   "execution_count": 44,
   "metadata": {},
   "outputs": [
    {
     "data": {
      "text/plain": [
       "4860"
      ]
     },
     "execution_count": 44,
     "metadata": {},
     "output_type": "execute_result"
    }
   ],
   "source": [
    "len(tagsDict)\n",
    "#tagsDict"
   ]
  },
  {
   "cell_type": "code",
   "execution_count": 45,
   "metadata": {},
   "outputs": [],
   "source": [
    "sorted_tags = sorted(tagsDict.items(),key=lambda kv:kv[1],reverse=True)"
   ]
  },
  {
   "cell_type": "code",
   "execution_count": 46,
   "metadata": {},
   "outputs": [],
   "source": [
    "import collections"
   ]
  },
  {
   "cell_type": "code",
   "execution_count": 47,
   "metadata": {},
   "outputs": [],
   "source": [
    "sorted_tagsDict = collections.OrderedDict(sorted_tags)\n",
    "#sorted_tagsDict"
   ]
  },
  {
   "cell_type": "code",
   "execution_count": 48,
   "metadata": {},
   "outputs": [
    {
     "name": "stdout",
     "output_type": "stream",
     "text": [
      "14\n"
     ]
    },
    {
     "data": {
      "text/plain": [
       "38"
      ]
     },
     "execution_count": 48,
     "metadata": {},
     "output_type": "execute_result"
    }
   ],
   "source": [
    "print(sorted_tagsDict['kidnapping'])\n",
    "sorted_tagsDict['found footage']"
   ]
  },
  {
   "cell_type": "code",
   "execution_count": 49,
   "metadata": {},
   "outputs": [],
   "source": [
    "#Creating a new field to club the tags and genres\n",
    "Tags_Genres_list=[]\n",
    "\n",
    "for i in range(len(data)):\n",
    "    gen = data['Genres'].iloc[i]\n",
    "    s = \"\"\n",
    "    for g in gen.split(): \n",
    "        if g[-1]==',':\n",
    "            g=g[:-1]\n",
    "        s+=g.lower()+\",\"\n",
    "    \n",
    "    tag = literal_eval(data['Tags'].iloc[i])\n",
    "    for t in tag:\n",
    "        if t[-1]==',':\n",
    "            t=t[:-1]\n",
    "        s+=t.lower()+\",\"\n",
    "    \n",
    "    Tags_Genres_list.append(s)       "
   ]
  },
  {
   "cell_type": "code",
   "execution_count": 50,
   "metadata": {
    "scrolled": true
   },
   "outputs": [],
   "source": [
    "#Tags_Genres_list\n",
    "data['TagsGenres'] = Tags_Genres_list"
   ]
  },
  {
   "cell_type": "code",
   "execution_count": 51,
   "metadata": {},
   "outputs": [],
   "source": [
    "def classifyTagsGenres(data):\n",
    "    tagsGenreDict={}\n",
    "    for i in range(len(data)):\n",
    "        movie_tagGenres=data['TagsGenres'].iloc[i]\n",
    "        for j in movie_tagGenres.split(','):\n",
    "            if j in tagsGenreDict:\n",
    "                tagsGenreDict[j]+=1\n",
    "            else:\n",
    "                tagsGenreDict[j]=1\n",
    "    return tagsGenreDict"
   ]
  },
  {
   "cell_type": "code",
   "execution_count": 52,
   "metadata": {},
   "outputs": [],
   "source": [
    "tagsGenreDict = classifyTagsGenres(data)"
   ]
  },
  {
   "cell_type": "code",
   "execution_count": 53,
   "metadata": {},
   "outputs": [
    {
     "data": {
      "text/plain": [
       "4881"
      ]
     },
     "execution_count": 53,
     "metadata": {},
     "output_type": "execute_result"
    }
   ],
   "source": [
    "#tagsGenreDict\n",
    "len(tagsGenreDict)"
   ]
  },
  {
   "cell_type": "code",
   "execution_count": 54,
   "metadata": {},
   "outputs": [],
   "source": [
    "sorted_tagsGenres = sorted(tagsGenreDict.items(),key=lambda kv:kv[1],reverse=True)\n",
    "sorted_tagsGenresDict = collections.OrderedDict(sorted_tagsGenres)"
   ]
  },
  {
   "cell_type": "code",
   "execution_count": 55,
   "metadata": {},
   "outputs": [],
   "source": [
    "#sorted_tagsGenres"
   ]
  },
  {
   "cell_type": "markdown",
   "metadata": {},
   "source": [
    "## Tags Classification"
   ]
  },
  {
   "cell_type": "code",
   "execution_count": 56,
   "metadata": {},
   "outputs": [],
   "source": [
    "similar_tags ={\n",
    "    'Thriller':['thriller', 'mystery', 'serial killer','fear','revenge','psychopath', 'torture', 'psychological thriller', 'suspense','escape','insanity','mental institution'],\n",
    "    \n",
    "    'Mystery':['mystery', 'giallo','mystery killer','masked killer','stalker'],\n",
    "    \n",
    "    'Horror Comedy':['comedy', 'mockumentary', 'satire', 'splatter comedy', 'spoof'],\n",
    "    \n",
    "    'Sci-fi':['sci fi', 'scientist', 'mad scientist', 'experiment', 'doctor', 'psychiatrist', 'laboratory', 'virus', 'alternate reality', 'mutation', 'computer', 'outer space', 'astronaut', 'time travel', 'time loop', 'infection'],\n",
    "    \n",
    "    'Kidnapping':['crime', 'kidnapping', 'bound and gagged', 'tied feet', 'mask', 'sheriff', 'police', 'abduction', 'investigation', 'mystery killer', 'Neo-noir', 'mysterious killer', 'police officer'],\n",
    "    \n",
    "    'Pyschotronic':['psychotronic film', 'surrealism', 'psychological horror', 'lovecraftian', 'nightmare', 'hallucination', 'coma', 'paranoia', 'dream', 'hypnosis'],\n",
    "    \n",
    "    'Creatures and Monsters':['creature', 'monster', 'shark', 'monster movie', 'creature feature', 'doll', 'giant spider', 'kaiju', 'snake', 'parasite', \"frankensteins's monster\"],\n",
    "    \n",
    "    \n",
    "    'Vampires and Werewolves':['vampire', 'werewolf', 'full moon', 'vampire hunter', 'female vampire', 'dracula'],\n",
    "    \n",
    "    \n",
    "    'Zombie':['zombie', 'zombie apocalypse', 'undead'],\n",
    "    \n",
    "    \n",
    "    'Serial Killer':['slasher', 'serial killer', 'psychopath', 'slasher flick', 'masked killer', 'serial murderer', 'slasher killer', 'mental institution', 'killer', 'insanity', 'psychopathic killer', 'serial murder', 'maniac', 'stalker', 'murder spree', 'backwood slasher', 'clown', 'evil clown', 'killer clown'],\n",
    "    \n",
    "    \n",
    "    'Ghosts':['ghost', 'haunting', 'paranormal phenomena', 'ouija board'],\n",
    "    \n",
    "    \n",
    "    'Haunted':['haunted house', 'house', 'mansion', 'castle', 'basement', 'motel', 'haunted house attraction', 'home invasion'],\n",
    "    \n",
    "    \n",
    "    'Supernatural':['supernatural horror', 'psychic', 'supernatural', 'telekinesis'],\n",
    "    \n",
    "    \n",
    "    'Demons and Exorcism':['demon', 'exorcism', 'priest', 'demonic possession', 'possession', 'hell', 'cult', 'nun', 'ritual', 'occult', 'funeral', 'devil', 'deal with the devil', 'exorcist', 'evil spirit', 'evil', 'gothic horror', 'gothic'],\n",
    "    \n",
    "    'Occult':['cult film','witch','ouija board','black magic','killing an animal','voodoo','occult','ritual','cult','curse'],\n",
    "    \n",
    "    'Aliens and Tech':['alien', 'alien invasion', 'scientist', 'spaceship','sci-Fi','shared universe','based on video game','astronaut','outer space','mutation','laboratory','experiment','mad scientist'],\n",
    "    \n",
    "    'Blood and violence':['blood', 'gore', 'murder', 'corpse', 'violence', 'death', 'suicide', 'torture', 'characters murdered one by one', 'body horror', 'cannibal', 'cannibalism', 'decapitation', 'graphic violence', 'eaten alive', 'brutality', 'blood splatter', 'characters killed one by one', 'splatter', 'killing an animal', 'chainsaw', 'sadism', 'exploding head', 'extreme violence', 'throat-slitting', 'buried alive'],\n",
    "    \n",
    "    'Found Footage':['found footage', 'hidden camera', 'video camera'],\n",
    "    \n",
    "    'Witch':['witch', 'curse', 'witchcraft', 'voodoo', 'black magic', 'magic'],\n",
    "    \n",
    "    'Apocalypse':['post-apocalypse', 'apocalypse', 'dystopia', 'future'],\n",
    "    \n",
    "    'Urban Legend':['folk horror', 'urban legend', 'folklore', 'anthology', 'based on short story']\n",
    "    \n",
    "}"
   ]
  },
  {
   "cell_type": "code",
   "execution_count": 57,
   "metadata": {},
   "outputs": [],
   "source": [
    "selected_tags= ['Haunted']"
   ]
  },
  {
   "cell_type": "markdown",
   "metadata": {},
   "source": [
    "`m_tags = data.iloc[9]['TagsGenres']\n",
    "print(m_tags)\n",
    "for t in selected_tags:\n",
    "    sim_tags = similar_tags[t]\n",
    "    print(sim_tags)\n",
    "    for st in sim_tags:\n",
    "        if st in m_tags:\n",
    "            print('Matching '+st)\n",
    "`"
   ]
  },
  {
   "cell_type": "code",
   "execution_count": 58,
   "metadata": {},
   "outputs": [
    {
     "data": {
      "text/plain": [
       "['Title', 'Rating', 'Genres', 'Tags', 'Url', 'Popularity', 'TagsGenres']"
      ]
     },
     "execution_count": 58,
     "metadata": {},
     "output_type": "execute_result"
    }
   ],
   "source": [
    "df_columns = list(data.columns)\n",
    "df_columns"
   ]
  },
  {
   "cell_type": "code",
   "execution_count": 59,
   "metadata": {},
   "outputs": [],
   "source": [
    "new_col = ['Title','Rating','Popularity','Category','URL']"
   ]
  },
  {
   "cell_type": "code",
   "execution_count": 60,
   "metadata": {},
   "outputs": [],
   "source": [
    "def recSys(selected_tags):\n",
    "    movie_selected=[]\n",
    "    new_df = pd.DataFrame(columns=new_col)\n",
    "    for i in range(len(data)):\n",
    "        \n",
    "        #Tags list of selected movie\n",
    "        m_tags=data.iloc[i]['TagsGenres']\n",
    "        \n",
    "        for t in selected_tags:\n",
    "            \n",
    "            #List of associated tags\n",
    "            sim_tags=similar_tags[t]\n",
    "            \n",
    "            for st in sim_tags:\n",
    "                if st in m_tags:\n",
    "                    if data.iloc[i]['Title'] not in movie_selected:\n",
    "                        movie_selected.append(data.iloc[i]['Title'])\n",
    "                        movie_name=data.iloc[i]['Title']\n",
    "                        movie_rating=data.iloc[i]['Rating']\n",
    "                        movie_popularity=data.iloc[i]['Popularity']\n",
    "                        movie_tagsMatched= t\n",
    "                        movie_url = data.iloc[i]['Url']\n",
    "                        app_list = {'Title':movie_name,\n",
    "                                    'Rating':movie_rating,\n",
    "                                    'Popularity':movie_popularity,\n",
    "                                    'Category':movie_tagsMatched,\n",
    "                                    'URL':movie_url}\n",
    "                        new_df = new_df.append([app_list])\n",
    "    \n",
    "    return new_df"
   ]
  },
  {
   "cell_type": "code",
   "execution_count": 61,
   "metadata": {},
   "outputs": [],
   "source": [
    "rec_movies_df = recSys(selected_tags)"
   ]
  },
  {
   "cell_type": "code",
   "execution_count": 62,
   "metadata": {},
   "outputs": [],
   "source": [
    "sorted_rec = rec_movies_df.sort_values(by=['Popularity','Rating'],ascending=False)[:20]"
   ]
  },
  {
   "cell_type": "code",
   "execution_count": 63,
   "metadata": {},
   "outputs": [],
   "source": [
    "#sorted_rec"
   ]
  },
  {
   "cell_type": "code",
   "execution_count": 64,
   "metadata": {},
   "outputs": [],
   "source": [
    "def recommendations(selected_tags):\n",
    "    rec_movies_df=recSys(selected_tags)\n",
    "    sorted_rec=rec_movies_df.sort_values(by=['Popularity','Rating'],ascending=False)[:20]\n",
    "    return sorted_rec"
   ]
  },
  {
   "cell_type": "code",
   "execution_count": 65,
   "metadata": {},
   "outputs": [
    {
     "data": {
      "text/html": [
       "<div>\n",
       "<style scoped>\n",
       "    .dataframe tbody tr th:only-of-type {\n",
       "        vertical-align: middle;\n",
       "    }\n",
       "\n",
       "    .dataframe tbody tr th {\n",
       "        vertical-align: top;\n",
       "    }\n",
       "\n",
       "    .dataframe thead th {\n",
       "        text-align: right;\n",
       "    }\n",
       "</style>\n",
       "<table border=\"1\" class=\"dataframe\">\n",
       "  <thead>\n",
       "    <tr style=\"text-align: right;\">\n",
       "      <th></th>\n",
       "      <th>Title</th>\n",
       "      <th>Rating</th>\n",
       "      <th>Popularity</th>\n",
       "      <th>Category</th>\n",
       "      <th>URL</th>\n",
       "    </tr>\n",
       "  </thead>\n",
       "  <tbody>\n",
       "    <tr>\n",
       "      <th>0</th>\n",
       "      <td>The Lighthouse (I) (2019)</td>\n",
       "      <td>7.5</td>\n",
       "      <td>124</td>\n",
       "      <td>Haunted</td>\n",
       "      <td>https://www.imdb.com//title/tt7984734/</td>\n",
       "    </tr>\n",
       "    <tr>\n",
       "      <th>0</th>\n",
       "      <td>The Conjuring (2013)</td>\n",
       "      <td>7.5</td>\n",
       "      <td>124</td>\n",
       "      <td>Haunted</td>\n",
       "      <td>https://www.imdb.com//title/tt1457767/</td>\n",
       "    </tr>\n",
       "    <tr>\n",
       "      <th>0</th>\n",
       "      <td>The Babysitter (I) (2017)</td>\n",
       "      <td>6.3</td>\n",
       "      <td>124</td>\n",
       "      <td>Haunted</td>\n",
       "      <td>https://www.imdb.com//title/tt4225622/</td>\n",
       "    </tr>\n",
       "    <tr>\n",
       "      <th>0</th>\n",
       "      <td>Psycho (1960)</td>\n",
       "      <td>8.5</td>\n",
       "      <td>123</td>\n",
       "      <td>Haunted</td>\n",
       "      <td>https://www.imdb.com//title/tt0054215/</td>\n",
       "    </tr>\n",
       "    <tr>\n",
       "      <th>0</th>\n",
       "      <td>Poltergeist (1982)</td>\n",
       "      <td>7.3</td>\n",
       "      <td>123</td>\n",
       "      <td>Haunted</td>\n",
       "      <td>https://www.imdb.com//title/tt0084516/</td>\n",
       "    </tr>\n",
       "    <tr>\n",
       "      <th>0</th>\n",
       "      <td>Thir13en Ghosts (2001)</td>\n",
       "      <td>5.6</td>\n",
       "      <td>123</td>\n",
       "      <td>Haunted</td>\n",
       "      <td>https://www.imdb.com//title/tt0245674/</td>\n",
       "    </tr>\n",
       "    <tr>\n",
       "      <th>0</th>\n",
       "      <td>The Haunted Mansion (2003)</td>\n",
       "      <td>5.0</td>\n",
       "      <td>123</td>\n",
       "      <td>Haunted</td>\n",
       "      <td>https://www.imdb.com//title/tt0338094/</td>\n",
       "    </tr>\n",
       "    <tr>\n",
       "      <th>0</th>\n",
       "      <td>The Turning (2020)</td>\n",
       "      <td>3.8</td>\n",
       "      <td>123</td>\n",
       "      <td>Haunted</td>\n",
       "      <td>https://www.imdb.com//title/tt7510346/</td>\n",
       "    </tr>\n",
       "    <tr>\n",
       "      <th>0</th>\n",
       "      <td>Hush (I) (2016)</td>\n",
       "      <td>6.6</td>\n",
       "      <td>122</td>\n",
       "      <td>Haunted</td>\n",
       "      <td>https://www.imdb.com//title/tt5022702/</td>\n",
       "    </tr>\n",
       "    <tr>\n",
       "      <th>0</th>\n",
       "      <td>You Should Have Left (2020)</td>\n",
       "      <td>5.3</td>\n",
       "      <td>122</td>\n",
       "      <td>Haunted</td>\n",
       "      <td>https://www.imdb.com//title/tt8201852/</td>\n",
       "    </tr>\n",
       "    <tr>\n",
       "      <th>0</th>\n",
       "      <td>The Haunting (1999)</td>\n",
       "      <td>5.0</td>\n",
       "      <td>122</td>\n",
       "      <td>Haunted</td>\n",
       "      <td>https://www.imdb.com//title/tt0171363/</td>\n",
       "    </tr>\n",
       "    <tr>\n",
       "      <th>0</th>\n",
       "      <td>The Others (2001)</td>\n",
       "      <td>7.6</td>\n",
       "      <td>121</td>\n",
       "      <td>Haunted</td>\n",
       "      <td>https://www.imdb.com//title/tt0230600/</td>\n",
       "    </tr>\n",
       "    <tr>\n",
       "      <th>0</th>\n",
       "      <td>Insidious (I) (2010)</td>\n",
       "      <td>6.8</td>\n",
       "      <td>121</td>\n",
       "      <td>Haunted</td>\n",
       "      <td>https://www.imdb.com//title/tt1591095/</td>\n",
       "    </tr>\n",
       "    <tr>\n",
       "      <th>0</th>\n",
       "      <td>Scary Stories to Tell in the Dark (2019)</td>\n",
       "      <td>6.2</td>\n",
       "      <td>120</td>\n",
       "      <td>Haunted</td>\n",
       "      <td>https://www.imdb.com//title/tt3387520/</td>\n",
       "    </tr>\n",
       "    <tr>\n",
       "      <th>0</th>\n",
       "      <td>The Amityville Horror (2005)</td>\n",
       "      <td>6.0</td>\n",
       "      <td>120</td>\n",
       "      <td>Haunted</td>\n",
       "      <td>https://www.imdb.com//title/tt0384806/</td>\n",
       "    </tr>\n",
       "    <tr>\n",
       "      <th>0</th>\n",
       "      <td>House on Haunted Hill (1999)</td>\n",
       "      <td>5.7</td>\n",
       "      <td>120</td>\n",
       "      <td>Haunted</td>\n",
       "      <td>https://www.imdb.com//title/tt0185371/</td>\n",
       "    </tr>\n",
       "    <tr>\n",
       "      <th>0</th>\n",
       "      <td>Don't Breathe (2016)</td>\n",
       "      <td>7.1</td>\n",
       "      <td>119</td>\n",
       "      <td>Haunted</td>\n",
       "      <td>https://www.imdb.com//title/tt4160708/</td>\n",
       "    </tr>\n",
       "    <tr>\n",
       "      <th>0</th>\n",
       "      <td>Color Out of Space (2019)</td>\n",
       "      <td>6.2</td>\n",
       "      <td>119</td>\n",
       "      <td>Haunted</td>\n",
       "      <td>https://www.imdb.com//title/tt5073642/</td>\n",
       "    </tr>\n",
       "    <tr>\n",
       "      <th>0</th>\n",
       "      <td>The Conjuring 2 (2016)</td>\n",
       "      <td>7.3</td>\n",
       "      <td>118</td>\n",
       "      <td>Haunted</td>\n",
       "      <td>https://www.imdb.com//title/tt3065204/</td>\n",
       "    </tr>\n",
       "    <tr>\n",
       "      <th>0</th>\n",
       "      <td>Annihilation (2018)</td>\n",
       "      <td>6.8</td>\n",
       "      <td>118</td>\n",
       "      <td>Haunted</td>\n",
       "      <td>https://www.imdb.com//title/tt2798920/</td>\n",
       "    </tr>\n",
       "  </tbody>\n",
       "</table>\n",
       "</div>"
      ],
      "text/plain": [
       "                                       Title Rating Popularity Category  \\\n",
       "0                 The Lighthouse (I) (2019)     7.5        124  Haunted   \n",
       "0                      The Conjuring (2013)     7.5        124  Haunted   \n",
       "0                 The Babysitter (I) (2017)     6.3        124  Haunted   \n",
       "0                             Psycho (1960)     8.5        123  Haunted   \n",
       "0                        Poltergeist (1982)     7.3        123  Haunted   \n",
       "0                    Thir13en Ghosts (2001)     5.6        123  Haunted   \n",
       "0                The Haunted Mansion (2003)     5.0        123  Haunted   \n",
       "0                        The Turning (2020)     3.8        123  Haunted   \n",
       "0                           Hush (I) (2016)     6.6        122  Haunted   \n",
       "0               You Should Have Left (2020)     5.3        122  Haunted   \n",
       "0                       The Haunting (1999)     5.0        122  Haunted   \n",
       "0                         The Others (2001)     7.6        121  Haunted   \n",
       "0                      Insidious (I) (2010)     6.8        121  Haunted   \n",
       "0  Scary Stories to Tell in the Dark (2019)     6.2        120  Haunted   \n",
       "0              The Amityville Horror (2005)     6.0        120  Haunted   \n",
       "0              House on Haunted Hill (1999)     5.7        120  Haunted   \n",
       "0                      Don't Breathe (2016)     7.1        119  Haunted   \n",
       "0                 Color Out of Space (2019)     6.2        119  Haunted   \n",
       "0                    The Conjuring 2 (2016)     7.3        118  Haunted   \n",
       "0                       Annihilation (2018)     6.8        118  Haunted   \n",
       "\n",
       "                                      URL  \n",
       "0  https://www.imdb.com//title/tt7984734/  \n",
       "0  https://www.imdb.com//title/tt1457767/  \n",
       "0  https://www.imdb.com//title/tt4225622/  \n",
       "0  https://www.imdb.com//title/tt0054215/  \n",
       "0  https://www.imdb.com//title/tt0084516/  \n",
       "0  https://www.imdb.com//title/tt0245674/  \n",
       "0  https://www.imdb.com//title/tt0338094/  \n",
       "0  https://www.imdb.com//title/tt7510346/  \n",
       "0  https://www.imdb.com//title/tt5022702/  \n",
       "0  https://www.imdb.com//title/tt8201852/  \n",
       "0  https://www.imdb.com//title/tt0171363/  \n",
       "0  https://www.imdb.com//title/tt0230600/  \n",
       "0  https://www.imdb.com//title/tt1591095/  \n",
       "0  https://www.imdb.com//title/tt3387520/  \n",
       "0  https://www.imdb.com//title/tt0384806/  \n",
       "0  https://www.imdb.com//title/tt0185371/  \n",
       "0  https://www.imdb.com//title/tt4160708/  \n",
       "0  https://www.imdb.com//title/tt5073642/  \n",
       "0  https://www.imdb.com//title/tt3065204/  \n",
       "0  https://www.imdb.com//title/tt2798920/  "
      ]
     },
     "execution_count": 65,
     "metadata": {},
     "output_type": "execute_result"
    }
   ],
   "source": [
    "recommendations(selected_tags)"
   ]
  },
  {
   "cell_type": "code",
   "execution_count": null,
   "metadata": {},
   "outputs": [],
   "source": []
  },
  {
   "cell_type": "code",
   "execution_count": null,
   "metadata": {},
   "outputs": [],
   "source": []
  }
 ],
 "metadata": {
  "kernelspec": {
   "display_name": "Python 3",
   "language": "python",
   "name": "python3"
  },
  "language_info": {
   "codemirror_mode": {
    "name": "ipython",
    "version": 3
   },
   "file_extension": ".py",
   "mimetype": "text/x-python",
   "name": "python",
   "nbconvert_exporter": "python",
   "pygments_lexer": "ipython3",
   "version": "3.7.4"
  }
 },
 "nbformat": 4,
 "nbformat_minor": 4
}
