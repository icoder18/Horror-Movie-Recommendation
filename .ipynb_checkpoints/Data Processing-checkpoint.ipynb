{
 "cells": [
  {
   "cell_type": "code",
   "execution_count": 1,
   "metadata": {},
   "outputs": [],
   "source": [
    "import numpy as np\n",
    "import pandas as pd"
   ]
  },
  {
   "cell_type": "code",
   "execution_count": 2,
   "metadata": {},
   "outputs": [
    {
     "data": {
      "text/html": [
       "<div>\n",
       "<style scoped>\n",
       "    .dataframe tbody tr th:only-of-type {\n",
       "        vertical-align: middle;\n",
       "    }\n",
       "\n",
       "    .dataframe tbody tr th {\n",
       "        vertical-align: top;\n",
       "    }\n",
       "\n",
       "    .dataframe thead th {\n",
       "        text-align: right;\n",
       "    }\n",
       "</style>\n",
       "<table border=\"1\" class=\"dataframe\">\n",
       "  <thead>\n",
       "    <tr style=\"text-align: right;\">\n",
       "      <th></th>\n",
       "      <th>Title</th>\n",
       "      <th>Rating</th>\n",
       "      <th>Genres</th>\n",
       "      <th>Url</th>\n",
       "    </tr>\n",
       "  </thead>\n",
       "  <tbody>\n",
       "    <tr>\n",
       "      <th>0</th>\n",
       "      <td>The Witches (2020)</td>\n",
       "      <td>None</td>\n",
       "      <td>Adventure, Comedy, Family</td>\n",
       "      <td>www.imdb.com/title/tt0805647/</td>\n",
       "    </tr>\n",
       "    <tr>\n",
       "      <th>1</th>\n",
       "      <td>The Witches (1990)</td>\n",
       "      <td>6.8</td>\n",
       "      <td>Adventure, Comedy, Family</td>\n",
       "      <td>www.imdb.com/title/tt0100944/</td>\n",
       "    </tr>\n",
       "    <tr>\n",
       "      <th>2</th>\n",
       "      <td>Vampires vs. the Bronx (2020)</td>\n",
       "      <td>5.4</td>\n",
       "      <td>Comedy, Horror</td>\n",
       "      <td>www.imdb.com/title/tt8976576/</td>\n",
       "    </tr>\n",
       "    <tr>\n",
       "      <th>3</th>\n",
       "      <td>Between Earth and Sky (2018)</td>\n",
       "      <td>5.7</td>\n",
       "      <td>Crime, Drama, Horror</td>\n",
       "      <td>www.imdb.com/title/tt7945440/</td>\n",
       "    </tr>\n",
       "    <tr>\n",
       "      <th>4</th>\n",
       "      <td>The Invisible Man (I) (2020)</td>\n",
       "      <td>7.1</td>\n",
       "      <td>Horror, Mystery, Sci-Fi</td>\n",
       "      <td>www.imdb.com/title/tt1051906/</td>\n",
       "    </tr>\n",
       "    <tr>\n",
       "      <th>5</th>\n",
       "      <td>Black Box (II) (2020)</td>\n",
       "      <td>6.0</td>\n",
       "      <td>Horror, Mystery, Sci-Fi</td>\n",
       "      <td>www.imdb.com/title/tt12298506/</td>\n",
       "    </tr>\n",
       "    <tr>\n",
       "      <th>6</th>\n",
       "      <td>Antebellum (2020)</td>\n",
       "      <td>5.5</td>\n",
       "      <td>Drama, Horror, Mystery</td>\n",
       "      <td>www.imdb.com/title/tt10065694/</td>\n",
       "    </tr>\n",
       "    <tr>\n",
       "      <th>7</th>\n",
       "      <td>Death of Me (2020)</td>\n",
       "      <td>4.3</td>\n",
       "      <td>Horror, Mystery, Thriller</td>\n",
       "      <td>www.imdb.com/title/tt1830643/</td>\n",
       "    </tr>\n",
       "    <tr>\n",
       "      <th>8</th>\n",
       "      <td>The Babysitter: Killer Queen (2020)</td>\n",
       "      <td>5.8</td>\n",
       "      <td>Comedy, Horror</td>\n",
       "      <td>www.imdb.com/title/tt11024272/</td>\n",
       "    </tr>\n",
       "    <tr>\n",
       "      <th>9</th>\n",
       "      <td>The Wolf of Snow Hollow (2020)</td>\n",
       "      <td>6.2</td>\n",
       "      <td>Comedy, Horror, Thriller</td>\n",
       "      <td>www.imdb.com/title/tt11140488/</td>\n",
       "    </tr>\n",
       "  </tbody>\n",
       "</table>\n",
       "</div>"
      ],
      "text/plain": [
       "                                  Title Rating  \\\n",
       "0                   The Witches (2020)    None   \n",
       "1                   The Witches (1990)     6.8   \n",
       "2        Vampires vs. the Bronx (2020)     5.4   \n",
       "3         Between Earth and Sky (2018)     5.7   \n",
       "4         The Invisible Man (I) (2020)     7.1   \n",
       "5                Black Box (II) (2020)     6.0   \n",
       "6                    Antebellum (2020)     5.5   \n",
       "7                   Death of Me (2020)     4.3   \n",
       "8  The Babysitter: Killer Queen (2020)     5.8   \n",
       "9       The Wolf of Snow Hollow (2020)     6.2   \n",
       "\n",
       "                                  Genres                             Url  \n",
       "0  Adventure, Comedy, Family               www.imdb.com/title/tt0805647/  \n",
       "1  Adventure, Comedy, Family               www.imdb.com/title/tt0100944/  \n",
       "2             Comedy, Horror               www.imdb.com/title/tt8976576/  \n",
       "3       Crime, Drama, Horror               www.imdb.com/title/tt7945440/  \n",
       "4    Horror, Mystery, Sci-Fi               www.imdb.com/title/tt1051906/  \n",
       "5    Horror, Mystery, Sci-Fi              www.imdb.com/title/tt12298506/  \n",
       "6     Drama, Horror, Mystery              www.imdb.com/title/tt10065694/  \n",
       "7  Horror, Mystery, Thriller               www.imdb.com/title/tt1830643/  \n",
       "8             Comedy, Horror              www.imdb.com/title/tt11024272/  \n",
       "9   Comedy, Horror, Thriller              www.imdb.com/title/tt11140488/  "
      ]
     },
     "execution_count": 2,
     "metadata": {},
     "output_type": "execute_result"
    }
   ],
   "source": [
    "data = pd.read_csv('Horror Movies.csv')\n",
    "data.head(n=10)"
   ]
  },
  {
   "cell_type": "code",
   "execution_count": 10,
   "metadata": {},
   "outputs": [
    {
     "name": "stdout",
     "output_type": "stream",
     "text": [
      "Adventure\n",
      "Comedy\n",
      "Family\n"
     ]
    }
   ],
   "source": [
    "l =list(data['Genres'])\n",
    "for li in l:\n",
    "    li=li.split()\n",
    "    for i in li:\n",
    "        if i[-1]==',':\n",
    "            i=i[:-1]\n",
    "        print(i)\n",
    "    break"
   ]
  },
  {
   "cell_type": "code",
   "execution_count": 11,
   "metadata": {},
   "outputs": [],
   "source": [
    "def mapGenres(genres,data):\n",
    "    movie_genres = list(data['Genres'])\n",
    "    for mg in movie_genres:\n",
    "        mg = mg.split()\n",
    "        for i in mg:\n",
    "            if i[-1]==',':\n",
    "                i = i[:-1]\n",
    "        \n",
    "        if i in genres.keys():\n",
    "            genres[i]+=1\n",
    "        else:\n",
    "            genres[i]=1   "
   ]
  },
  {
   "cell_type": "code",
   "execution_count": 12,
   "metadata": {},
   "outputs": [],
   "source": [
    "genres = {}\n",
    "\n",
    "mapGenres(genres,data)"
   ]
  },
  {
   "cell_type": "code",
   "execution_count": 13,
   "metadata": {},
   "outputs": [
    {
     "data": {
      "text/plain": [
       "{'Family': 10,\n",
       " 'Horror': 955,\n",
       " 'Sci-Fi': 279,\n",
       " 'Mystery': 288,\n",
       " 'Thriller': 760,\n",
       " 'Fantasy': 68,\n",
       " 'Comedy': 25,\n",
       " 'War': 6,\n",
       " 'Musical': 9,\n",
       " 'Romance': 27,\n",
       " 'Drama': 40,\n",
       " 'Western': 6,\n",
       " 'Music': 6,\n",
       " 'Crime': 13,\n",
       " 'History': 1,\n",
       " 'Adventure': 4,\n",
       " 'Biography': 1,\n",
       " 'Action': 1,\n",
       " 'Sport': 1}"
      ]
     },
     "execution_count": 13,
     "metadata": {},
     "output_type": "execute_result"
    }
   ],
   "source": [
    "genres"
   ]
  },
  {
   "cell_type": "code",
   "execution_count": null,
   "metadata": {},
   "outputs": [],
   "source": [
    "selected_tags = ['Horror','Sci-Fi','Mystery']"
   ]
  }
 ],
 "metadata": {
  "kernelspec": {
   "display_name": "Python 3",
   "language": "python",
   "name": "python3"
  },
  "language_info": {
   "codemirror_mode": {
    "name": "ipython",
    "version": 3
   },
   "file_extension": ".py",
   "mimetype": "text/x-python",
   "name": "python",
   "nbconvert_exporter": "python",
   "pygments_lexer": "ipython3",
   "version": "3.6.7"
  }
 },
 "nbformat": 4,
 "nbformat_minor": 4
}
